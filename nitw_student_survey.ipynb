{
 "cells": [
  {
   "cell_type": "markdown",
   "metadata": {},
   "source": [
    "# Import Raw Data"
   ]
  },
  {
   "cell_type": "code",
   "execution_count": 1,
   "metadata": {
    "collapsed": true
   },
   "outputs": [],
   "source": [
    "import unicodecsv\n",
    "\n",
    "def read_csv(filename):\n",
    "    with open(filename, 'rb') as file:\n",
    "        reader = unicodecsv.DictReader(file)\n",
    "        return list(reader)\n",
    "\n",
    "raw_data = read_csv('survey_results_raw_column_updated.csv')"
   ]
  },
  {
   "cell_type": "code",
   "execution_count": 2,
   "metadata": {},
   "outputs": [
    {
     "data": {
      "text/plain": [
       "{u'Timestamp': u'2017/07/04 4:04:48 AM GMT+1',\n",
       " u'age': u'28',\n",
       " u'branch_assoc': u'Yes',\n",
       " u'campus_job': u'Yes',\n",
       " u'cgpa': u'7 to 8',\n",
       " u'council_or_fest': u'Yes',\n",
       " u'course': u'Electrical and Electronic Engineering',\n",
       " u'gender': u'Male',\n",
       " u'graduation': u'2013',\n",
       " u'job_sat': u'7',\n",
       " u'risk_appetite': u'Would have been more than what I had',\n",
       " u'second_degree': u'No',\n",
       " u'second_degree_field': u'',\n",
       " u'student_club': u'Yes',\n",
       " u'student_club_post': u'Yes',\n",
       " u'time_acad': u'I would have spent more time than I did',\n",
       " u'time_eca': u'I would have spent the same amount of time that I did',\n",
       " u'time_experiment': u'Would have spent more time applying/experimenting',\n",
       " u'time_social': u'I would have spent the same amount of time that I did',\n",
       " u'work_field': u'Data analytics',\n",
       " u'workex': u'4'}"
      ]
     },
     "execution_count": 2,
     "metadata": {},
     "output_type": "execute_result"
    }
   ],
   "source": [
    "raw_data[0]"
   ]
  },
  {
   "cell_type": "code",
   "execution_count": 3,
   "metadata": {},
   "outputs": [
    {
     "data": {
      "text/plain": [
       "118"
      ]
     },
     "execution_count": 3,
     "metadata": {},
     "output_type": "execute_result"
    }
   ],
   "source": [
    "len(raw_data)"
   ]
  },
  {
   "cell_type": "markdown",
   "metadata": {},
   "source": [
    "# Input value alteration functions"
   ]
  },
  {
   "cell_type": "code",
   "execution_count": 4,
   "metadata": {
    "collapsed": true
   },
   "outputs": [],
   "source": [
    "# A function to convert Yes to 1 and No to 2\n",
    "def convert_yes_no(my_list, value):\n",
    "    if my_list[value] == \"Yes\":\n",
    "        my_list[value] = 1\n",
    "    elif my_list[value] == \"No\":\n",
    "        my_list[value] = 2\n",
    "\n",
    "# A function to convert text based answer to short forms\n",
    "def convert_text(my_list, value, short_text):\n",
    "    my_list[value] = short_text"
   ]
  },
  {
   "cell_type": "markdown",
   "metadata": {},
   "source": [
    "# Alter input values\n",
    "Altering some input values for ease of analysis"
   ]
  },
  {
   "cell_type": "code",
   "execution_count": 5,
   "metadata": {},
   "outputs": [
    {
     "data": {
      "text/plain": [
       "{u'Timestamp': u'2017/07/07 6:44:08 PM GMT+1',\n",
       " u'age': u'25',\n",
       " u'branch_assoc': 1,\n",
       " u'campus_job': 1,\n",
       " u'cgpa': 4,\n",
       " u'council_or_fest': 2,\n",
       " u'course': 'eee',\n",
       " u'gender': 2,\n",
       " u'graduation': u'2013',\n",
       " u'job_sat': u'7',\n",
       " u'risk_appetite': 3,\n",
       " u'second_degree': 2,\n",
       " u'second_degree_field': u'',\n",
       " u'student_club': 1,\n",
       " u'student_club_post': 1,\n",
       " u'time_acad': 3,\n",
       " u'time_eca': 2,\n",
       " u'time_experiment': 2,\n",
       " u'time_social': 2,\n",
       " u'work_field': u'Data science',\n",
       " u'workex': u'3'}"
      ]
     },
     "execution_count": 5,
     "metadata": {},
     "output_type": "execute_result"
    }
   ],
   "source": [
    "for entry in raw_data:\n",
    "    convert_yes_no(entry, \"branch_assoc\")\n",
    "    convert_yes_no(entry, \"campus_job\")\n",
    "    convert_yes_no(entry, \"council_or_fest\")\n",
    "    convert_yes_no(entry, \"student_club\")\n",
    "    convert_yes_no(entry, \"student_club_post\")\n",
    "    convert_yes_no(entry, \"second_degree\")\n",
    "    \n",
    "    # Changing course to short form\n",
    "    if entry[\"course\"] == \"Mechanical Engineering\":\n",
    "        convert_text(entry, \"course\", \"mech\")\n",
    "    elif entry[\"course\"] == \"Chemical Engineering\":\n",
    "        convert_text(entry, \"course\", \"chem\")\n",
    "    elif entry[\"course\"] == \"Electrical and Electronic Engineering\":\n",
    "        convert_text(entry, \"course\", \"eee\")\n",
    "    elif entry[\"course\"] == \"Metallurgy and Materials Engineering\":\n",
    "        convert_text(entry, \"course\", \"meta\")\n",
    "    elif entry[\"course\"] == \"Computer Science and Engineering\":\n",
    "        convert_text(entry, \"course\", \"cse\")\n",
    "    elif entry[\"course\"] == \"Civil Engineering\":\n",
    "        convert_text(entry, \"course\", \"civil\")\n",
    "    elif entry[\"course\"] == \"Electronics and Communication Engineering\":\n",
    "        convert_text(entry, \"course\", \"ece\")\n",
    "    elif entry[\"course\"] == \"Bio Technology\":\n",
    "        convert_text(entry, \"course\", \"biot\")\n",
    "        \n",
    "    # converting time spent on various activities to numerical values for regression\n",
    "    # less = 1\n",
    "    # same = 2\n",
    "    # more = 3\n",
    "    \n",
    "    if entry[\"time_acad\"] == \"I would have spent less time than I did\":\n",
    "        convert_text(entry, \"time_acad\", 1)\n",
    "    elif entry[\"time_acad\"] == \"I would have spent the same amount of time that I did\":\n",
    "        convert_text(entry, \"time_acad\", 2)\n",
    "    elif entry[\"time_acad\"] == \"I would have spent more time than I did\":\n",
    "        convert_text(entry, \"time_acad\", 3)\n",
    "        \n",
    "    if entry[\"time_eca\"] == \"I would have spent less time than I did\":\n",
    "        convert_text(entry, \"time_eca\", 1)\n",
    "    elif entry[\"time_eca\"] == \"I would have spent the same amount of time that I did\":\n",
    "        convert_text(entry, \"time_eca\", 2)\n",
    "    elif entry[\"time_eca\"] == \"I would have spent more time than I did\":\n",
    "        convert_text(entry, \"time_eca\", 3)\n",
    "    \n",
    "    if entry[\"time_social\"] == \"I would have spent less time than I did\":\n",
    "        convert_text(entry, \"time_social\", 1)\n",
    "    elif entry[\"time_social\"] == \"I would have spent the same amount of time that I did\":\n",
    "        convert_text(entry, \"time_social\", 2)\n",
    "    elif entry[\"time_social\"] == \"I would have spent more time than I did\":\n",
    "        convert_text(entry, \"time_social\", 3)\n",
    "    \n",
    "    if entry[\"risk_appetite\"] == \"Would have been lesser than what I had\":\n",
    "        convert_text(entry, \"risk_appetite\", 1)\n",
    "    elif entry[\"risk_appetite\"] == \"Would have been the same that I had\":\n",
    "        convert_text(entry, \"risk_appetite\", 2)\n",
    "    elif entry[\"risk_appetite\"] == \"Would have been more than what I had\":\n",
    "        convert_text(entry, \"risk_appetite\", 3)\n",
    "    \n",
    "    if entry[\"time_experiment\"] == \"Would have spent less time applying/experimenting\":\n",
    "        convert_text(entry, \"time_experiment\", 1)\n",
    "    elif entry[\"time_experiment\"] == \"Would have spent the same amount of time as academics\":\n",
    "        convert_text(entry, \"time_experiment\", 2)\n",
    "    elif entry[\"time_experiment\"] == \"Would have spent more time applying/experimenting\":\n",
    "        convert_text(entry, \"time_experiment\", 3)\n",
    "    \n",
    "    # Converting Gender into numeric values\n",
    "    # Female = 1\n",
    "    # Male = 2\n",
    "    if entry[\"gender\"] == \"Female\":\n",
    "        convert_text(entry, \"gender\", 1)\n",
    "    elif entry[\"gender\"] == \"Male\":\n",
    "        convert_text(entry, \"gender\", 2)\n",
    "        \n",
    "    # Converting CGPA into five groups\n",
    "    # <6\n",
    "    # 6 to 7\n",
    "    # 7 to 8\n",
    "    # 8 to 9\n",
    "    # >9\n",
    "    if entry[\"cgpa\"] == \"<6\":\n",
    "        convert_text(entry, \"cgpa\", 1)\n",
    "    elif entry[\"cgpa\"] == \"6 to 7\":\n",
    "        convert_text(entry, \"cgpa\", 2)\n",
    "    elif entry[\"cgpa\"] == \"7 to 8\":\n",
    "        convert_text(entry, \"cgpa\", 3)\n",
    "    elif entry[\"cgpa\"] == \"8 to 9\":\n",
    "        convert_text(entry, \"cgpa\", 4)\n",
    "    elif entry[\"cgpa\"] == \">9\":\n",
    "        convert_text(entry, \"cgpa\", 5)\n",
    "        \n",
    "    \n",
    "raw_data[12] #verification"
   ]
  },
  {
   "cell_type": "markdown",
   "metadata": {},
   "source": [
    "# Data type conversion functions\n",
    "Below cell has functions to alter data types"
   ]
  },
  {
   "cell_type": "code",
   "execution_count": 6,
   "metadata": {
    "collapsed": true
   },
   "outputs": [],
   "source": [
    "def parse_int(num):\n",
    "    if num == '':\n",
    "        return None\n",
    "    else:\n",
    "        return int(num)\n",
    "    \n",
    "def parse_float(num):\n",
    "    if num == '':\n",
    "        return None\n",
    "    else:\n",
    "        return float(num)\n",
    "\n",
    "def parse_empty_string(string):\n",
    "    if string == '':\n",
    "        return None\n",
    "    else:\n",
    "        return string\n",
    "    \n",
    "# More to be added    "
   ]
  },
  {
   "cell_type": "markdown",
   "metadata": {},
   "source": [
    "# Data type conversions"
   ]
  },
  {
   "cell_type": "code",
   "execution_count": 7,
   "metadata": {},
   "outputs": [
    {
     "data": {
      "text/plain": [
       "{u'Timestamp': u'2017/07/08 4:51:37 PM GMT+1',\n",
       " u'age': 26,\n",
       " u'branch_assoc': 2,\n",
       " u'campus_job': 1,\n",
       " u'cgpa': 3,\n",
       " u'council_or_fest': 2,\n",
       " u'course': 'eee',\n",
       " u'gender': 2,\n",
       " u'graduation': u'2013',\n",
       " u'job_sat': 8,\n",
       " u'risk_appetite': 2,\n",
       " u'second_degree': 2,\n",
       " u'second_degree_field': None,\n",
       " u'student_club': 2,\n",
       " u'student_club_post': 1,\n",
       " u'time_acad': 2,\n",
       " u'time_eca': 3,\n",
       " u'time_experiment': 2,\n",
       " u'time_social': 2,\n",
       " u'work_field': u'Data Analytics / Software Design',\n",
       " u'workex': 4.0}"
      ]
     },
     "execution_count": 7,
     "metadata": {},
     "output_type": "execute_result"
    }
   ],
   "source": [
    "for entry in raw_data:\n",
    "    entry[\"age\"] = parse_int(entry[\"age\"])\n",
    "    entry[\"job_sat\"] = parse_int(entry[\"job_sat\"])\n",
    "    entry[\"workex\"] = parse_float(entry[\"workex\"])\n",
    "    entry[\"second_degree_field\"] = parse_empty_string(entry[\"second_degree_field\"])\n",
    "\n",
    "raw_data[14] # verification"
   ]
  },
  {
   "cell_type": "markdown",
   "metadata": {
    "collapsed": true
   },
   "source": [
    "# Multiple linear regression"
   ]
  },
  {
   "cell_type": "code",
   "execution_count": 8,
   "metadata": {},
   "outputs": [
    {
     "name": "stderr",
     "output_type": "stream",
     "text": [
      "/Users/krishanth/anaconda/lib/python2.7/site-packages/statsmodels/compat/pandas.py:56: FutureWarning: The pandas.core.datetools module is deprecated and will be removed in a future version. Please use the pandas.tseries module instead.\n",
      "  from pandas.core import datetools\n"
     ]
    }
   ],
   "source": [
    "import statsmodels.api as sm\n",
    "import numpy as np\n",
    "import pandas as pd"
   ]
  },
  {
   "cell_type": "code",
   "execution_count": 9,
   "metadata": {
    "collapsed": true
   },
   "outputs": [],
   "source": [
    "df = pd.DataFrame(raw_data, columns=[\"branch_assoc\", \"cgpa\", \"council_or_fest\", \"gender\", \"student_club\", \"student_club_post\"])\n",
    "target = pd.DataFrame(raw_data, columns=[\"job_sat\"])"
   ]
  },
  {
   "cell_type": "code",
   "execution_count": 10,
   "metadata": {
    "collapsed": true
   },
   "outputs": [],
   "source": [
    "X = df[\"cgpa\"]\n",
    "Y = target[\"job_sat\"]\n",
    "\n",
    "model = sm.OLS(Y, X).fit()\n",
    "predictions = model.predict(X)"
   ]
  },
  {
   "cell_type": "code",
   "execution_count": 11,
   "metadata": {},
   "outputs": [
    {
     "data": {
      "text/html": [
       "<table class=\"simpletable\">\n",
       "<caption>OLS Regression Results</caption>\n",
       "<tr>\n",
       "  <th>Dep. Variable:</th>         <td>job_sat</td>     <th>  R-squared:         </th> <td>   0.862</td>\n",
       "</tr>\n",
       "<tr>\n",
       "  <th>Model:</th>                   <td>OLS</td>       <th>  Adj. R-squared:    </th> <td>   0.861</td>\n",
       "</tr>\n",
       "<tr>\n",
       "  <th>Method:</th>             <td>Least Squares</td>  <th>  F-statistic:       </th> <td>   732.8</td>\n",
       "</tr>\n",
       "<tr>\n",
       "  <th>Date:</th>             <td>Sat, 14 Oct 2017</td> <th>  Prob (F-statistic):</th> <td>3.33e-52</td>\n",
       "</tr>\n",
       "<tr>\n",
       "  <th>Time:</th>                 <td>12:42:08</td>     <th>  Log-Likelihood:    </th> <td> -287.85</td>\n",
       "</tr>\n",
       "<tr>\n",
       "  <th>No. Observations:</th>      <td>   118</td>      <th>  AIC:               </th> <td>   577.7</td>\n",
       "</tr>\n",
       "<tr>\n",
       "  <th>Df Residuals:</th>          <td>   117</td>      <th>  BIC:               </th> <td>   580.5</td>\n",
       "</tr>\n",
       "<tr>\n",
       "  <th>Df Model:</th>              <td>     1</td>      <th>                     </th>     <td> </td>   \n",
       "</tr>\n",
       "<tr>\n",
       "  <th>Covariance Type:</th>      <td>nonrobust</td>    <th>                     </th>     <td> </td>   \n",
       "</tr>\n",
       "</table>\n",
       "<table class=\"simpletable\">\n",
       "<tr>\n",
       "    <td></td>      <th>coef</th>     <th>std err</th>      <th>t</th>      <th>P>|t|</th>  <th>[0.025</th>    <th>0.975]</th>  \n",
       "</tr>\n",
       "<tr>\n",
       "  <th>cgpa</th> <td>    2.0856</td> <td>    0.077</td> <td>   27.070</td> <td> 0.000</td> <td>    1.933</td> <td>    2.238</td>\n",
       "</tr>\n",
       "</table>\n",
       "<table class=\"simpletable\">\n",
       "<tr>\n",
       "  <th>Omnibus:</th>       <td> 3.158</td> <th>  Durbin-Watson:     </th> <td>   2.083</td>\n",
       "</tr>\n",
       "<tr>\n",
       "  <th>Prob(Omnibus):</th> <td> 0.206</td> <th>  Jarque-Bera (JB):  </th> <td>   2.839</td>\n",
       "</tr>\n",
       "<tr>\n",
       "  <th>Skew:</th>          <td>-0.200</td> <th>  Prob(JB):          </th> <td>   0.242</td>\n",
       "</tr>\n",
       "<tr>\n",
       "  <th>Kurtosis:</th>      <td> 3.646</td> <th>  Cond. No.          </th> <td>    1.00</td>\n",
       "</tr>\n",
       "</table>"
      ],
      "text/plain": [
       "<class 'statsmodels.iolib.summary.Summary'>\n",
       "\"\"\"\n",
       "                            OLS Regression Results                            \n",
       "==============================================================================\n",
       "Dep. Variable:                job_sat   R-squared:                       0.862\n",
       "Model:                            OLS   Adj. R-squared:                  0.861\n",
       "Method:                 Least Squares   F-statistic:                     732.8\n",
       "Date:                Sat, 14 Oct 2017   Prob (F-statistic):           3.33e-52\n",
       "Time:                        12:42:08   Log-Likelihood:                -287.85\n",
       "No. Observations:                 118   AIC:                             577.7\n",
       "Df Residuals:                     117   BIC:                             580.5\n",
       "Df Model:                           1                                         \n",
       "Covariance Type:            nonrobust                                         \n",
       "==============================================================================\n",
       "                 coef    std err          t      P>|t|      [0.025      0.975]\n",
       "------------------------------------------------------------------------------\n",
       "cgpa           2.0856      0.077     27.070      0.000       1.933       2.238\n",
       "==============================================================================\n",
       "Omnibus:                        3.158   Durbin-Watson:                   2.083\n",
       "Prob(Omnibus):                  0.206   Jarque-Bera (JB):                2.839\n",
       "Skew:                          -0.200   Prob(JB):                        0.242\n",
       "Kurtosis:                       3.646   Cond. No.                         1.00\n",
       "==============================================================================\n",
       "\n",
       "Warnings:\n",
       "[1] Standard Errors assume that the covariance matrix of the errors is correctly specified.\n",
       "\"\"\""
      ]
     },
     "execution_count": 11,
     "metadata": {},
     "output_type": "execute_result"
    }
   ],
   "source": [
    "model.summary()"
   ]
  },
  {
   "cell_type": "code",
   "execution_count": null,
   "metadata": {
    "collapsed": true
   },
   "outputs": [],
   "source": []
  }
 ],
 "metadata": {
  "kernelspec": {
   "display_name": "Python 2",
   "language": "python",
   "name": "python2"
  },
  "language_info": {
   "codemirror_mode": {
    "name": "ipython",
    "version": 2
   },
   "file_extension": ".py",
   "mimetype": "text/x-python",
   "name": "python",
   "nbconvert_exporter": "python",
   "pygments_lexer": "ipython2",
   "version": "2.7.13"
  }
 },
 "nbformat": 4,
 "nbformat_minor": 1
}
