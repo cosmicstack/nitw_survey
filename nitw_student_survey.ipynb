{
 "cells": [
  {
   "cell_type": "markdown",
   "metadata": {},
   "source": [
    "# Import Raw Data"
   ]
  },
  {
   "cell_type": "code",
   "execution_count": 33,
   "metadata": {},
   "outputs": [],
   "source": [
    "import unicodecsv\n",
    "\n",
    "def read_csv(filename):\n",
    "    with open(filename, 'rb') as file:\n",
    "        reader = unicodecsv.DictReader(file)\n",
    "        return list(reader)\n",
    "\n",
    "raw_data = read_csv('survey_results_raw_column_updated.csv')"
   ]
  },
  {
   "cell_type": "code",
   "execution_count": 34,
   "metadata": {},
   "outputs": [
    {
     "data": {
      "text/plain": [
       "{u'Timestamp': u'2017/07/04 4:04:48 AM GMT+1',\n",
       " u'age': u'28',\n",
       " u'branch_assoc': u'Yes',\n",
       " u'campus_job': u'Yes',\n",
       " u'cgpa': u'7 to 8',\n",
       " u'council_or_fest': u'Yes',\n",
       " u'course': u'Electrical and Electronic Engineering',\n",
       " u'gender': u'Male',\n",
       " u'graduation': u'2013',\n",
       " u'job_sat': u'7',\n",
       " u'risk_appetite': u'Would have been more than what I had',\n",
       " u'second_degree': u'No',\n",
       " u'second_degree_field': u'',\n",
       " u'student_club': u'Yes',\n",
       " u'student_club_post': u'Yes',\n",
       " u'time_acad': u'I would have spent more time than I did',\n",
       " u'time_eca': u'I would have spent the same amount of time that I did',\n",
       " u'time_experiment': u'Would have spent more time applying/experimenting',\n",
       " u'time_social': u'I would have spent the same amount of time that I did',\n",
       " u'work_field': u'Data analytics',\n",
       " u'workex': u'4'}"
      ]
     },
     "execution_count": 34,
     "metadata": {},
     "output_type": "execute_result"
    }
   ],
   "source": [
    "raw_data[0]"
   ]
  },
  {
   "cell_type": "code",
   "execution_count": 35,
   "metadata": {},
   "outputs": [
    {
     "data": {
      "text/plain": [
       "118"
      ]
     },
     "execution_count": 35,
     "metadata": {},
     "output_type": "execute_result"
    }
   ],
   "source": [
    "len(raw_data)"
   ]
  },
  {
   "cell_type": "markdown",
   "metadata": {},
   "source": [
    "# Input value alteration functions"
   ]
  },
  {
   "cell_type": "code",
   "execution_count": 36,
   "metadata": {
    "collapsed": true
   },
   "outputs": [],
   "source": [
    "# A function to convert Yes to 1 and No to 0\n",
    "def convert_yes_no(my_list, value):\n",
    "    if my_list[value] == \"Yes\":\n",
    "        my_list[value] = 1\n",
    "    elif my_list[value] == \"No\":\n",
    "        my_list[value] = 0\n",
    "\n",
    "# A function to convert text based answer to short forms\n",
    "def convert_text(my_list, value, short_text):\n",
    "    my_list[value] = short_text"
   ]
  },
  {
   "cell_type": "markdown",
   "metadata": {},
   "source": [
    "# Alter input values\n",
    "Altering some input values for ease of analysis"
   ]
  },
  {
   "cell_type": "code",
   "execution_count": 38,
   "metadata": {},
   "outputs": [
    {
     "data": {
      "text/plain": [
       "{u'Timestamp': u'2017/07/08 4:52:52 PM GMT+1',\n",
       " u'age': u'25',\n",
       " u'branch_assoc': 0,\n",
       " u'campus_job': 1,\n",
       " u'cgpa': u'<6',\n",
       " u'council_or_fest': 0,\n",
       " u'course': 'civil',\n",
       " u'gender': u'Male',\n",
       " u'graduation': u'2013',\n",
       " u'job_sat': u'8',\n",
       " u'risk_appetite': 2,\n",
       " u'second_degree': 1,\n",
       " u'second_degree_field': u'Construction Management Nicmar ',\n",
       " u'student_club': 1,\n",
       " u'student_club_post': 0,\n",
       " u'time_acad': 3,\n",
       " u'time_eca': 3,\n",
       " u'time_experiment': 3,\n",
       " u'time_social': 1,\n",
       " u'work_field': u'Sales and marketing of steel structures',\n",
       " u'workex': u'3'}"
      ]
     },
     "execution_count": 38,
     "metadata": {},
     "output_type": "execute_result"
    }
   ],
   "source": [
    "for entry in raw_data:\n",
    "    convert_yes_no(entry, \"branch_assoc\")\n",
    "    convert_yes_no(entry, \"campus_job\")\n",
    "    convert_yes_no(entry, \"council_or_fest\")\n",
    "    convert_yes_no(entry, \"student_club\")\n",
    "    convert_yes_no(entry, \"student_club_post\")\n",
    "    convert_yes_no(entry, \"second_degree\")\n",
    "    \n",
    "    # Changing course to short form\n",
    "    if entry[\"course\"] == \"Mechanical Engineering\":\n",
    "        convert_text(entry, \"course\", \"mech\")\n",
    "    elif entry[\"course\"] == \"Chemical Engineering\":\n",
    "        convert_text(entry, \"course\", \"chem\")\n",
    "    elif entry[\"course\"] == \"Electrical and Electronic Engineering\":\n",
    "        convert_text(entry, \"course\", \"eee\")\n",
    "    elif entry[\"course\"] == \"Metallurgy and Materials Engineering\":\n",
    "        convert_text(entry, \"course\", \"meta\")\n",
    "    elif entry[\"course\"] == \"Computer Science and Engineering\":\n",
    "        convert_text(entry, \"course\", \"cse\")\n",
    "    elif entry[\"course\"] == \"Civil Engineering\":\n",
    "        convert_text(entry, \"course\", \"civil\")\n",
    "    elif entry[\"course\"] == \"Electronics and Communication Engineering\":\n",
    "        convert_text(entry, \"course\", \"ece\")\n",
    "    elif entry[\"course\"] == \"Bio Technology\":\n",
    "        convert_text(entry, \"course\", \"biot\")\n",
    "        \n",
    "    # converting time spent on various activities to numerical values for regression\n",
    "    # less = 1\n",
    "    # same = 2\n",
    "    # more = 3\n",
    "    \n",
    "    if entry[\"time_acad\"] == \"I would have spent less time than I did\":\n",
    "        convert_text(entry, \"time_acad\", 1)\n",
    "    elif entry[\"time_acad\"] == \"I would have spent the same amount of time that I did\":\n",
    "        convert_text(entry, \"time_acad\", 2)\n",
    "    elif entry[\"time_acad\"] == \"I would have spent more time than I did\":\n",
    "        convert_text(entry, \"time_acad\", 3)\n",
    "        \n",
    "    if entry[\"time_eca\"] == \"I would have spent less time than I did\":\n",
    "        convert_text(entry, \"time_eca\", 1)\n",
    "    elif entry[\"time_eca\"] == \"I would have spent the same amount of time that I did\":\n",
    "        convert_text(entry, \"time_eca\", 2)\n",
    "    elif entry[\"time_eca\"] == \"I would have spent more time than I did\":\n",
    "        convert_text(entry, \"time_eca\", 3)\n",
    "    \n",
    "    if entry[\"time_social\"] == \"I would have spent less time than I did\":\n",
    "        convert_text(entry, \"time_social\", 1)\n",
    "    elif entry[\"time_social\"] == \"I would have spent the same amount of time that I did\":\n",
    "        convert_text(entry, \"time_social\", 2)\n",
    "    elif entry[\"time_social\"] == \"I would have spent more time than I did\":\n",
    "        convert_text(entry, \"time_social\", 3)\n",
    "    \n",
    "    if entry[\"risk_appetite\"] == \"Would have been lesser than what I had\":\n",
    "        convert_text(entry, \"risk_appetite\", 1)\n",
    "    elif entry[\"risk_appetite\"] == \"Would have been the same that I had\":\n",
    "        convert_text(entry, \"risk_appetite\", 2)\n",
    "    elif entry[\"risk_appetite\"] == \"Would have been more than what I had\":\n",
    "        convert_text(entry, \"risk_appetite\", 3)\n",
    "    \n",
    "    if entry[\"time_experiment\"] == \"Would have spent less time applying/experimenting\":\n",
    "        convert_text(entry, \"time_experiment\", 1)\n",
    "    elif entry[\"time_experiment\"] == \"Would have spent the same amount of time as academics\":\n",
    "        convert_text(entry, \"time_experiment\", 2)\n",
    "    elif entry[\"time_experiment\"] == \"Would have spent more time applying/experimenting\":\n",
    "        convert_text(entry, \"time_experiment\", 3)\n",
    "    \n",
    "raw_data[15] #verification"
   ]
  },
  {
   "cell_type": "markdown",
   "metadata": {},
   "source": [
    "# Cleanup functions\n",
    "Below cell has functions to alter data types"
   ]
  },
  {
   "cell_type": "code",
   "execution_count": 39,
   "metadata": {
    "collapsed": true
   },
   "outputs": [],
   "source": [
    "def parse_int(num):\n",
    "    if num == '':\n",
    "        return None\n",
    "    else:\n",
    "        return int(num)\n",
    "    \n",
    "def parse_float(num):\n",
    "    if num == '':\n",
    "        return None\n",
    "    else:\n",
    "        return float(num)\n",
    "\n",
    "def parse_empty_string(string):\n",
    "    if string == '':\n",
    "        return None\n",
    "    else:\n",
    "        return string\n",
    "    \n",
    "# More to be added    "
   ]
  },
  {
   "cell_type": "markdown",
   "metadata": {},
   "source": [
    "# Data type conversions"
   ]
  },
  {
   "cell_type": "code",
   "execution_count": 41,
   "metadata": {},
   "outputs": [
    {
     "data": {
      "text/plain": [
       "{u'Timestamp': u'2017/07/08 4:51:37 PM GMT+1',\n",
       " u'age': 26,\n",
       " u'branch_assoc': 0,\n",
       " u'campus_job': 1,\n",
       " u'cgpa': u'7 to 8',\n",
       " u'council_or_fest': 0,\n",
       " u'course': 'eee',\n",
       " u'gender': u'Male',\n",
       " u'graduation': u'2013',\n",
       " u'job_sat': 8,\n",
       " u'risk_appetite': 2,\n",
       " u'second_degree': 0,\n",
       " u'second_degree_field': None,\n",
       " u'student_club': 0,\n",
       " u'student_club_post': 1,\n",
       " u'time_acad': 2,\n",
       " u'time_eca': 3,\n",
       " u'time_experiment': 2,\n",
       " u'time_social': 2,\n",
       " u'work_field': u'Data Analytics / Software Design',\n",
       " u'workex': 4.0}"
      ]
     },
     "execution_count": 41,
     "metadata": {},
     "output_type": "execute_result"
    }
   ],
   "source": [
    "for entry in raw_data:\n",
    "    entry[\"age\"] = parse_int(entry[\"age\"])\n",
    "    entry[\"job_sat\"] = parse_int(entry[\"job_sat\"])\n",
    "    entry[\"workex\"] = parse_float(entry[\"workex\"])\n",
    "    entry[\"second_degree_field\"] = parse_empty_string(entry[\"second_degree_field\"])\n",
    "\n",
    "raw_data[14] # verification"
   ]
  },
  {
   "cell_type": "code",
   "execution_count": null,
   "metadata": {
    "collapsed": true
   },
   "outputs": [],
   "source": []
  }
 ],
 "metadata": {
  "kernelspec": {
   "display_name": "Python 2",
   "language": "python",
   "name": "python2"
  },
  "language_info": {
   "codemirror_mode": {
    "name": "ipython",
    "version": 2
   },
   "file_extension": ".py",
   "mimetype": "text/x-python",
   "name": "python",
   "nbconvert_exporter": "python",
   "pygments_lexer": "ipython2",
   "version": "2.7.13"
  }
 },
 "nbformat": 4,
 "nbformat_minor": 1
}
