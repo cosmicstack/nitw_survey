{
 "cells": [
  {
   "cell_type": "markdown",
   "metadata": {},
   "source": [
    "# Import Raw Data"
   ]
  },
  {
   "cell_type": "code",
   "execution_count": 2,
   "metadata": {
    "collapsed": true
   },
   "outputs": [],
   "source": [
    "import unicodecsv\n",
    "\n",
    "def read_csv(filename):\n",
    "    with open(filename, 'rb') as file:\n",
    "        reader = unicodecsv.DictReader(file)\n",
    "        return list(reader)\n",
    "\n",
    "raw_data = read_csv('survey_results_raw_column_updated.csv')"
   ]
  },
  {
   "cell_type": "code",
   "execution_count": 3,
   "metadata": {},
   "outputs": [
    {
     "data": {
      "text/plain": [
       "{u'Timestamp': u'2017/07/04 4:04:48 AM GMT+1',\n",
       " u'age': u'28',\n",
       " u'branch_assoc': u'Yes',\n",
       " u'campus_job': u'Yes',\n",
       " u'cgpa': u'7 to 8',\n",
       " u'council_or_fest': u'Yes',\n",
       " u'course': u'Electrical and Electronic Engineering',\n",
       " u'gender': u'Male',\n",
       " u'graduation': u'2013',\n",
       " u'job_sat': u'7',\n",
       " u'risk_appetite': u'Would have been more than what I had',\n",
       " u'second_degree': u'No',\n",
       " u'second_degree_field': u'',\n",
       " u'student_club': u'Yes',\n",
       " u'student_club_post': u'Yes',\n",
       " u'time_acad': u'I would have spent more time than I did',\n",
       " u'time_eca': u'I would have spent the same amount of time that I did',\n",
       " u'time_experiment': u'Would have spent more time applying/experimenting',\n",
       " u'time_social': u'I would have spent the same amount of time that I did',\n",
       " u'work_field': u'Data analytics',\n",
       " u'workex': u'4'}"
      ]
     },
     "execution_count": 3,
     "metadata": {},
     "output_type": "execute_result"
    }
   ],
   "source": [
    "raw_data[0]"
   ]
  },
  {
   "cell_type": "code",
   "execution_count": 4,
   "metadata": {},
   "outputs": [
    {
     "data": {
      "text/plain": [
       "118"
      ]
     },
     "execution_count": 4,
     "metadata": {},
     "output_type": "execute_result"
    }
   ],
   "source": [
    "len(raw_data)"
   ]
  },
  {
   "cell_type": "markdown",
   "metadata": {},
   "source": [
    "# Input value alteration functions"
   ]
  },
  {
   "cell_type": "code",
   "execution_count": 5,
   "metadata": {
    "collapsed": true
   },
   "outputs": [],
   "source": [
    "# A function to convert Yes to 1 and No to 2\n",
    "def convert_yes_no(my_list, value):\n",
    "    if my_list[value] == \"Yes\":\n",
    "        my_list[value] = 1\n",
    "    elif my_list[value] == \"No\":\n",
    "        my_list[value] = 0\n",
    "\n",
    "# A function to convert text based answer to short forms\n",
    "def convert_text(my_list, value, short_text):\n",
    "    my_list[value] = short_text"
   ]
  },
  {
   "cell_type": "markdown",
   "metadata": {},
   "source": [
    "# Alter input values\n",
    "Altering some input values for ease of analysis"
   ]
  },
  {
   "cell_type": "code",
   "execution_count": 6,
   "metadata": {},
   "outputs": [
    {
     "data": {
      "text/plain": [
       "{u'Timestamp': u'2017/07/07 6:44:08 PM GMT+1',\n",
       " u'age': u'25',\n",
       " u'branch_assoc': 1,\n",
       " u'campus_job': 1,\n",
       " u'cgpa': 4,\n",
       " u'council_or_fest': 0,\n",
       " u'course': 'eee',\n",
       " u'gender': 2,\n",
       " u'graduation': u'2013',\n",
       " u'job_sat': u'7',\n",
       " u'risk_appetite': 3,\n",
       " u'second_degree': 0,\n",
       " u'second_degree_field': u'',\n",
       " u'student_club': 1,\n",
       " u'student_club_post': 1,\n",
       " u'time_acad': 3,\n",
       " u'time_eca': 2,\n",
       " u'time_experiment': 2,\n",
       " u'time_social': 2,\n",
       " u'work_field': u'Data science',\n",
       " u'workex': u'3'}"
      ]
     },
     "execution_count": 6,
     "metadata": {},
     "output_type": "execute_result"
    }
   ],
   "source": [
    "for entry in raw_data:\n",
    "    convert_yes_no(entry, \"branch_assoc\")\n",
    "    convert_yes_no(entry, \"campus_job\")\n",
    "    convert_yes_no(entry, \"council_or_fest\")\n",
    "    convert_yes_no(entry, \"student_club\")\n",
    "    convert_yes_no(entry, \"student_club_post\")\n",
    "    convert_yes_no(entry, \"second_degree\")\n",
    "    \n",
    "    # Changing course to short form\n",
    "    if entry[\"course\"] == \"Mechanical Engineering\":\n",
    "        convert_text(entry, \"course\", \"mech\")\n",
    "    elif entry[\"course\"] == \"Chemical Engineering\":\n",
    "        convert_text(entry, \"course\", \"chem\")\n",
    "    elif entry[\"course\"] == \"Electrical and Electronic Engineering\":\n",
    "        convert_text(entry, \"course\", \"eee\")\n",
    "    elif entry[\"course\"] == \"Metallurgy and Materials Engineering\":\n",
    "        convert_text(entry, \"course\", \"meta\")\n",
    "    elif entry[\"course\"] == \"Computer Science and Engineering\":\n",
    "        convert_text(entry, \"course\", \"cse\")\n",
    "    elif entry[\"course\"] == \"Civil Engineering\":\n",
    "        convert_text(entry, \"course\", \"civil\")\n",
    "    elif entry[\"course\"] == \"Electronics and Communication Engineering\":\n",
    "        convert_text(entry, \"course\", \"ece\")\n",
    "    elif entry[\"course\"] == \"Bio Technology\":\n",
    "        convert_text(entry, \"course\", \"biot\")\n",
    "        \n",
    "    # converting time spent on various activities to numerical values for regression\n",
    "    # less = 1\n",
    "    # same = 2\n",
    "    # more = 3\n",
    "    \n",
    "    if entry[\"time_acad\"] == \"I would have spent less time than I did\":\n",
    "        convert_text(entry, \"time_acad\", 1)\n",
    "    elif entry[\"time_acad\"] == \"I would have spent the same amount of time that I did\":\n",
    "        convert_text(entry, \"time_acad\", 2)\n",
    "    elif entry[\"time_acad\"] == \"I would have spent more time than I did\":\n",
    "        convert_text(entry, \"time_acad\", 3)\n",
    "        \n",
    "    if entry[\"time_eca\"] == \"I would have spent less time than I did\":\n",
    "        convert_text(entry, \"time_eca\", 1)\n",
    "    elif entry[\"time_eca\"] == \"I would have spent the same amount of time that I did\":\n",
    "        convert_text(entry, \"time_eca\", 2)\n",
    "    elif entry[\"time_eca\"] == \"I would have spent more time than I did\":\n",
    "        convert_text(entry, \"time_eca\", 3)\n",
    "    \n",
    "    if entry[\"time_social\"] == \"I would have spent less time than I did\":\n",
    "        convert_text(entry, \"time_social\", 1)\n",
    "    elif entry[\"time_social\"] == \"I would have spent the same amount of time that I did\":\n",
    "        convert_text(entry, \"time_social\", 2)\n",
    "    elif entry[\"time_social\"] == \"I would have spent more time than I did\":\n",
    "        convert_text(entry, \"time_social\", 3)\n",
    "    \n",
    "    if entry[\"risk_appetite\"] == \"Would have been lesser than what I had\":\n",
    "        convert_text(entry, \"risk_appetite\", 1)\n",
    "    elif entry[\"risk_appetite\"] == \"Would have been the same that I had\":\n",
    "        convert_text(entry, \"risk_appetite\", 2)\n",
    "    elif entry[\"risk_appetite\"] == \"Would have been more than what I had\":\n",
    "        convert_text(entry, \"risk_appetite\", 3)\n",
    "    \n",
    "    if entry[\"time_experiment\"] == \"Would have spent less time applying/experimenting\":\n",
    "        convert_text(entry, \"time_experiment\", 1)\n",
    "    elif entry[\"time_experiment\"] == \"Would have spent the same amount of time as academics\":\n",
    "        convert_text(entry, \"time_experiment\", 2)\n",
    "    elif entry[\"time_experiment\"] == \"Would have spent more time applying/experimenting\":\n",
    "        convert_text(entry, \"time_experiment\", 3)\n",
    "    \n",
    "    # Converting Gender into numeric values\n",
    "    # Female = 1\n",
    "    # Male = 2\n",
    "    if entry[\"gender\"] == \"Female\":\n",
    "        convert_text(entry, \"gender\", 1)\n",
    "    elif entry[\"gender\"] == \"Male\":\n",
    "        convert_text(entry, \"gender\", 2)\n",
    "        \n",
    "    # Converting CGPA into five groups\n",
    "    # <6\n",
    "    # 6 to 7\n",
    "    # 7 to 8\n",
    "    # 8 to 9\n",
    "    # >9\n",
    "    if entry[\"cgpa\"] == \"<6\":\n",
    "        convert_text(entry, \"cgpa\", 1)\n",
    "    elif entry[\"cgpa\"] == \"6 to 7\":\n",
    "        convert_text(entry, \"cgpa\", 2)\n",
    "    elif entry[\"cgpa\"] == \"7 to 8\":\n",
    "        convert_text(entry, \"cgpa\", 3)\n",
    "    elif entry[\"cgpa\"] == \"8 to 9\":\n",
    "        convert_text(entry, \"cgpa\", 4)\n",
    "    elif entry[\"cgpa\"] == \">9\":\n",
    "        convert_text(entry, \"cgpa\", 5)\n",
    "        \n",
    "    \n",
    "raw_data[12] #verification"
   ]
  },
  {
   "cell_type": "markdown",
   "metadata": {},
   "source": [
    "# Data type conversion functions\n",
    "Below cell has functions to alter data types"
   ]
  },
  {
   "cell_type": "code",
   "execution_count": 7,
   "metadata": {
    "collapsed": true
   },
   "outputs": [],
   "source": [
    "def parse_int(num):\n",
    "    if num == '':\n",
    "        return None\n",
    "    else:\n",
    "        return int(num)\n",
    "    \n",
    "def parse_float(num):\n",
    "    if num == '':\n",
    "        return None\n",
    "    else:\n",
    "        return float(num)\n",
    "\n",
    "def parse_empty_string(string):\n",
    "    if string == '':\n",
    "        return None\n",
    "    else:\n",
    "        return string\n",
    "    \n",
    "# More to be added    "
   ]
  },
  {
   "cell_type": "markdown",
   "metadata": {},
   "source": [
    "# Data type conversions"
   ]
  },
  {
   "cell_type": "code",
   "execution_count": 8,
   "metadata": {},
   "outputs": [
    {
     "data": {
      "text/plain": [
       "{u'Timestamp': u'2017/07/08 4:51:37 PM GMT+1',\n",
       " u'age': 26,\n",
       " u'branch_assoc': 0,\n",
       " u'campus_job': 1,\n",
       " u'cgpa': 3,\n",
       " u'council_or_fest': 0,\n",
       " u'course': 'eee',\n",
       " u'gender': 2,\n",
       " u'graduation': u'2013',\n",
       " u'job_sat': 8,\n",
       " u'risk_appetite': 2,\n",
       " u'second_degree': 0,\n",
       " u'second_degree_field': None,\n",
       " u'student_club': 0,\n",
       " u'student_club_post': 1,\n",
       " u'time_acad': 2,\n",
       " u'time_eca': 3,\n",
       " u'time_experiment': 2,\n",
       " u'time_social': 2,\n",
       " u'work_field': u'Data Analytics / Software Design',\n",
       " u'workex': 4.0}"
      ]
     },
     "execution_count": 8,
     "metadata": {},
     "output_type": "execute_result"
    }
   ],
   "source": [
    "for entry in raw_data:\n",
    "    entry[\"age\"] = parse_int(entry[\"age\"])\n",
    "    #entry[\"graduation\"] = parse_int(entry[\"graduation\"])\n",
    "    entry[\"job_sat\"] = parse_int(entry[\"job_sat\"])\n",
    "    entry[\"workex\"] = parse_float(entry[\"workex\"])\n",
    "    entry[\"second_degree_field\"] = parse_empty_string(entry[\"second_degree_field\"])\n",
    "\n",
    "raw_data[14] # verification"
   ]
  },
  {
   "cell_type": "markdown",
   "metadata": {},
   "source": [
    "# Data representation, visualization and analysis"
   ]
  },
  {
   "cell_type": "code",
   "execution_count": 9,
   "metadata": {
    "collapsed": true
   },
   "outputs": [],
   "source": [
    "import matplotlib.pyplot as plt\n",
    "from collections import Counter\n",
    "import pandas as pd\n",
    "\n",
    "age = []\n",
    "graduation_year = []\n",
    "\n",
    "for entry in raw_data:\n",
    "    age.append(entry[\"age\"])\n",
    "    graduation_year.append(entry[\"graduation\"])"
   ]
  },
  {
   "cell_type": "code",
   "execution_count": 10,
   "metadata": {},
   "outputs": [
    {
     "data": {
      "image/png": "[encoded data removed]",
      "text/plain": [
       "<matplotlib.figure.Figure at 0x119b72050>"
      ]
     },
     "metadata": {},
     "output_type": "display_data"
    }
   ],
   "source": [
    "plt.hist(age, bins=30)\n",
    "plt.title(\"Age distribution of responders\")\n",
    "plt.xlabel(\"Age\")\n",
    "plt.ylabel(\"Frequency\")\n",
    "plt.show()"
   ]
  },
  {
   "cell_type": "code",
   "execution_count": 11,
   "metadata": {},
   "outputs": [
    {
     "data": {
      "text/plain": [
       "Counter({u'2009': 4, u'2010': 4, u'2011': 5, u'2012': 39, u'2013': 66})"
      ]
     },
     "execution_count": 11,
     "metadata": {},
     "output_type": "execute_result"
    }
   ],
   "source": [
    "grad_year_counts = Counter(graduation_year)\n",
    "\n",
    "grad_year_counts"
   ]
  },
  {
   "cell_type": "markdown",
   "metadata": {
    "collapsed": true
   },
   "source": [
    "# Multiple linear regression"
   ]
  },
  {
   "cell_type": "code",
   "execution_count": 12,
   "metadata": {},
   "outputs": [
    {
     "name": "stderr",
     "output_type": "stream",
     "text": [
      "/Users/krishanth/anaconda/lib/python2.7/site-packages/statsmodels/compat/pandas.py:56: FutureWarning: The pandas.core.datetools module is deprecated and will be removed in a future version. Please use the pandas.tseries module instead.\n",
      "  from pandas.core import datetools\n"
     ]
    }
   ],
   "source": [
    "import statsmodels.api as sm\n",
    "import numpy as np\n"
   ]
  },
  {
   "cell_type": "code",
   "execution_count": 13,
   "metadata": {
    "collapsed": true
   },
   "outputs": [],
   "source": [
    "df = pd.DataFrame(raw_data, columns=[\"branch_assoc\", \"cgpa\", \"council_or_fest\", \"gender\", \"student_club\", \"student_club_post\"])\n",
    "target = pd.DataFrame(raw_data, columns=[\"job_sat\"])"
   ]
  },
  {
   "cell_type": "code",
   "execution_count": 14,
   "metadata": {
    "collapsed": true
   },
   "outputs": [],
   "source": [
    "X = df[\"cgpa\"]\n",
    "Y = target[\"job_sat\"]\n",
    "\n",
    "model = sm.OLS(Y, X).fit()\n",
    "predictions = model.predict(X)"
   ]
  },
  {
   "cell_type": "code",
   "execution_count": 15,
   "metadata": {},
   "outputs": [
    {
     "data": {
      "text/html": [
       "<table class=\"simpletable\">\n",
       "<caption>OLS Regression Results</caption>\n",
       "<tr>\n",
       "  <th>Dep. Variable:</th>         <td>job_sat</td>     <th>  R-squared:         </th> <td>   0.862</td>\n",
       "</tr>\n",
       "<tr>\n",
       "  <th>Model:</th>                   <td>OLS</td>       <th>  Adj. R-squared:    </th> <td>   0.861</td>\n",
       "</tr>\n",
       "<tr>\n",
       "  <th>Method:</th>             <td>Least Squares</td>  <th>  F-statistic:       </th> <td>   732.8</td>\n",
       "</tr>\n",
       "<tr>\n",
       "  <th>Date:</th>             <td>Sun, 05 Nov 2017</td> <th>  Prob (F-statistic):</th> <td>3.33e-52</td>\n",
       "</tr>\n",
       "<tr>\n",
       "  <th>Time:</th>                 <td>22:27:46</td>     <th>  Log-Likelihood:    </th> <td> -287.85</td>\n",
       "</tr>\n",
       "<tr>\n",
       "  <th>No. Observations:</th>      <td>   118</td>      <th>  AIC:               </th> <td>   577.7</td>\n",
       "</tr>\n",
       "<tr>\n",
       "  <th>Df Residuals:</th>          <td>   117</td>      <th>  BIC:               </th> <td>   580.5</td>\n",
       "</tr>\n",
       "<tr>\n",
       "  <th>Df Model:</th>              <td>     1</td>      <th>                     </th>     <td> </td>   \n",
       "</tr>\n",
       "<tr>\n",
       "  <th>Covariance Type:</th>      <td>nonrobust</td>    <th>                     </th>     <td> </td>   \n",
       "</tr>\n",
       "</table>\n",
       "<table class=\"simpletable\">\n",
       "<tr>\n",
       "    <td></td>      <th>coef</th>     <th>std err</th>      <th>t</th>      <th>P>|t|</th>  <th>[0.025</th>    <th>0.975]</th>  \n",
       "</tr>\n",
       "<tr>\n",
       "  <th>cgpa</th> <td>    2.0856</td> <td>    0.077</td> <td>   27.070</td> <td> 0.000</td> <td>    1.933</td> <td>    2.238</td>\n",
       "</tr>\n",
       "</table>\n",
       "<table class=\"simpletable\">\n",
       "<tr>\n",
       "  <th>Omnibus:</th>       <td> 3.158</td> <th>  Durbin-Watson:     </th> <td>   2.083</td>\n",
       "</tr>\n",
       "<tr>\n",
       "  <th>Prob(Omnibus):</th> <td> 0.206</td> <th>  Jarque-Bera (JB):  </th> <td>   2.839</td>\n",
       "</tr>\n",
       "<tr>\n",
       "  <th>Skew:</th>          <td>-0.200</td> <th>  Prob(JB):          </th> <td>   0.242</td>\n",
       "</tr>\n",
       "<tr>\n",
       "  <th>Kurtosis:</th>      <td> 3.646</td> <th>  Cond. No.          </th> <td>    1.00</td>\n",
       "</tr>\n",
       "</table>"
      ],
      "text/plain": [
       "<class 'statsmodels.iolib.summary.Summary'>\n",
       "\"\"\"\n",
       "                            OLS Regression Results                            \n",
       "==============================================================================\n",
       "Dep. Variable:                job_sat   R-squared:                       0.862\n",
       "Model:                            OLS   Adj. R-squared:                  0.861\n",
       "Method:                 Least Squares   F-statistic:                     732.8\n",
       "Date:                Sun, 05 Nov 2017   Prob (F-statistic):           3.33e-52\n",
       "Time:                        22:27:46   Log-Likelihood:                -287.85\n",
       "No. Observations:                 118   AIC:                             577.7\n",
       "Df Residuals:                     117   BIC:                             580.5\n",
       "Df Model:                           1                                         \n",
       "Covariance Type:            nonrobust                                         \n",
       "==============================================================================\n",
       "                 coef    std err          t      P>|t|      [0.025      0.975]\n",
       "------------------------------------------------------------------------------\n",
       "cgpa           2.0856      0.077     27.070      0.000       1.933       2.238\n",
       "==============================================================================\n",
       "Omnibus:                        3.158   Durbin-Watson:                   2.083\n",
       "Prob(Omnibus):                  0.206   Jarque-Bera (JB):                2.839\n",
       "Skew:                          -0.200   Prob(JB):                        0.242\n",
       "Kurtosis:                       3.646   Cond. No.                         1.00\n",
       "==============================================================================\n",
       "\n",
       "Warnings:\n",
       "[1] Standard Errors assume that the covariance matrix of the errors is correctly specified.\n",
       "\"\"\""
      ]
     },
     "execution_count": 15,
     "metadata": {},
     "output_type": "execute_result"
    }
   ],
   "source": [
    "model.summary()"
   ]
  },
  {
   "cell_type": "code",
   "execution_count": 16,
   "metadata": {},
   "outputs": [
    {
     "data": {
      "text/plain": [
       "{u'Timestamp': u'2017/07/08 4:51:37 PM GMT+1',\n",
       " u'age': 26,\n",
       " u'branch_assoc': 0,\n",
       " u'campus_job': 1,\n",
       " u'cgpa': 3,\n",
       " u'council_or_fest': 0,\n",
       " u'course': 'eee',\n",
       " u'gender': 2,\n",
       " u'graduation': u'2013',\n",
       " u'job_sat': 8,\n",
       " u'risk_appetite': 2,\n",
       " u'second_degree': 0,\n",
       " u'second_degree_field': None,\n",
       " u'student_club': 0,\n",
       " u'student_club_post': 1,\n",
       " u'time_acad': 2,\n",
       " u'time_eca': 3,\n",
       " u'time_experiment': 2,\n",
       " u'time_social': 2,\n",
       " u'work_field': u'Data Analytics / Software Design',\n",
       " u'workex': 4.0}"
      ]
     },
     "execution_count": 16,
     "metadata": {},
     "output_type": "execute_result"
    }
   ],
   "source": [
    "raw_data[14]"
   ]
  },
  {
   "cell_type": "code",
   "execution_count": 17,
   "metadata": {},
   "outputs": [
    {
     "name": "stdout",
     "output_type": "stream",
     "text": [
      "[{u'time_acad': 2, u'risk_appetite': 2, u'time_experiment': 2, u'campus_job': 1, u'workex': 4.0, u'branch_assoc': 0, u'Timestamp': u'2017/07/08 4:51:37 PM GMT+1', u'age': 26, u'cgpa': 3, u'student_club_post': 1, u'second_degree_field': None, u'graduation': u'2013', u'course': 'eee', u'council_or_fest': 0, u'student_club': 0, u'gender': 2, u'time_social': 2, u'time_eca': 3, u'work_field': u'Data Analytics / Software Design', u'second_degree': 0, u'job_sat': 8}, {u'time_acad': 3, u'risk_appetite': 2, u'time_experiment': 3, u'campus_job': 1, u'workex': 2.0, u'branch_assoc': 1, u'Timestamp': u'2017/07/08 11:47:29 PM GMT+1', u'age': 26, u'cgpa': 3, u'student_club_post': 1, u'second_degree_field': u'Chemical and biological engineering ', u'graduation': u'2012', u'course': 'chem', u'council_or_fest': 0, u'student_club': 0, u'gender': 1, u'time_social': 2, u'time_eca': 3, u'work_field': u'Semi conductor industry ', u'second_degree': 1, u'job_sat': 9}, {u'time_acad': 3, u'risk_appetite': 3, u'time_experiment': 3, u'campus_job': 1, u'workex': 3.0, u'branch_assoc': 0, u'Timestamp': u'2017/07/13 11:32:28 PM GMT+1', u'age': 25, u'cgpa': 2, u'student_club_post': 1, u'second_degree_field': None, u'graduation': u'2013', u'course': 'chem', u'council_or_fest': 1, u'student_club': 0, u'gender': 2, u'time_social': 3, u'time_eca': 2, u'work_field': u'IT', u'second_degree': 0, u'job_sat': 3}]\n"
     ]
    },
    {
     "data": {
      "text/plain": [
       "115"
      ]
     },
     "execution_count": 17,
     "metadata": {},
     "output_type": "execute_result"
    }
   ],
   "source": [
    "student_club_misrep = []\n",
    "\n",
    "for entry in raw_data:\n",
    "    if entry['student_club'] == 0 and entry['student_club_post'] == 1:\n",
    "        student_club_misrep.append(entry)\n",
    "\n",
    "print student_club_misrep\n",
    "\n",
    "for i in raw_data:\n",
    "    for j in student_club_misrep:\n",
    "        if i[\"Timestamp\"] == j[\"Timestamp\"]:\n",
    "            del raw_data[raw_data.index(i)]\n",
    "\n",
    "len(raw_data)"
   ]
  },
  {
   "cell_type": "code",
   "execution_count": 18,
   "metadata": {},
   "outputs": [
    {
     "name": "stdout",
     "output_type": "stream",
     "text": [
      "87.8260869565\n",
      "101\n"
     ]
    }
   ],
   "source": [
    "campus_jobs_only = []\n",
    "count = 0\n",
    "\n",
    "for entry in raw_data:\n",
    "    if entry['campus_job'] == 1:\n",
    "        campus_jobs_only.append(entry)\n",
    "        count += 1\n",
    "\n",
    "\n",
    "pct_job = count*100.0/len(raw_data)\n",
    "\n",
    "print pct_job\n",
    "print len(campus_jobs_only)"
   ]
  },
  {
   "cell_type": "code",
   "execution_count": 19,
   "metadata": {
    "collapsed": true
   },
   "outputs": [],
   "source": [
    "def calc_past_self_pct(n, data_point):\n",
    "    count = 0\n",
    "    for item in n:\n",
    "        if item[data_point] == 1:\n",
    "            count += 1\n",
    "    return count"
   ]
  },
  {
   "cell_type": "code",
   "execution_count": 20,
   "metadata": {},
   "outputs": [
    {
     "name": "stdout",
     "output_type": "stream",
     "text": [
      "out of those placed, Pct of people who were part of a branch assoc:43.5643564356\n",
      "out of those placed, Pct of people who were part of a council or fest:43.5643564356\n",
      "out of those placed, Pct of people who were part of a student club:68.3168316832\n"
     ]
    }
   ],
   "source": [
    "print \"out of those placed, Pct of people who were part of a branch assoc:\" + str(calc_past_self_pct(raw_data, 'branch_assoc')*100.0/len(campus_jobs_only))\n",
    "print \"out of those placed, Pct of people who were part of a council or fest:\" + str(calc_past_self_pct(raw_data, 'council_or_fest')*100.0/len(campus_jobs_only))\n",
    "print \"out of those placed, Pct of people who were part of a student club:\" + str(calc_past_self_pct(raw_data, 'student_club')*100.0/len(campus_jobs_only))"
   ]
  },
  {
   "cell_type": "code",
   "execution_count": 21,
   "metadata": {
    "collapsed": true
   },
   "outputs": [],
   "source": [
    "# finding those placed, who were part of student club, and who had posts\n",
    "\n",
    "holding_posts = []\n",
    "count1 = 0\n",
    "count2 = 0\n",
    "for entry in campus_jobs_only:\n",
    "    if entry['student_club'] == 1:\n",
    "        holding_posts.append(entry)\n",
    "        count1 += 1"
   ]
  },
  {
   "cell_type": "code",
   "execution_count": 22,
   "metadata": {},
   "outputs": [
    {
     "name": "stdout",
     "output_type": "stream",
     "text": [
      "60\n",
      "44\n",
      "those placed, who were part of student club, and who had posts:73.3333333333\n"
     ]
    }
   ],
   "source": [
    "for entry in holding_posts:\n",
    "    if entry['student_club_post'] == 1:\n",
    "        count2 += 1\n",
    "\n",
    "print count1\n",
    "print count2\n",
    "\n",
    "print \"those placed, who were part of student club, and who had posts:\" + str(44.0*100/60)"
   ]
  },
  {
   "cell_type": "code",
   "execution_count": 23,
   "metadata": {},
   "outputs": [
    {
     "name": "stdout",
     "output_type": "stream",
     "text": [
      "# of people who did not get campus jobs amongst responders:14\n",
      "# of people who could have gone for second degree:3\n"
     ]
    }
   ],
   "source": [
    "#Those who weren't placed, did they all have campus jobs?\n",
    "no_campus_job = []\n",
    "\n",
    "for entry in raw_data:\n",
    "    if entry['campus_job'] == 0:\n",
    "        no_campus_job.append(entry)\n",
    "\n",
    "print \"# of people who did not get campus jobs amongst responders:\" + str(len(no_campus_job))\n",
    "print \"# of people who could have gone for second degree:\" + str(calc_past_self_pct(no_campus_job, 'second_degree'))"
   ]
  },
  {
   "cell_type": "code",
   "execution_count": 24,
   "metadata": {},
   "outputs": [
    {
     "name": "stdout",
     "output_type": "stream",
     "text": [
      "pct of people who have second degree after placement:35.6435643564\n",
      "# of people who have second degree after placement:36\n",
      "Avg work experience:3.41176470588\n",
      "Raw avg work experience:3.50505050505\n"
     ]
    }
   ],
   "source": [
    "#Placed, and second degree, and their mean workex\n",
    "\n",
    "print \"pct of people who have second degree after placement:\" + str((calc_past_self_pct(campus_jobs_only, 'second_degree'))*100.0/len(campus_jobs_only))\n",
    "print \"# of people who have second degree after placement:\" + str(calc_past_self_pct(campus_jobs_only, 'second_degree'))\n",
    "\n",
    "campus_job_sec_degree = []\n",
    "\n",
    "for entry in campus_jobs_only:\n",
    "    if entry['second_degree'] == 1:\n",
    "        campus_job_sec_degree.append(entry)\n",
    "\n",
    "total_workex = []\n",
    "for entry in campus_job_sec_degree:\n",
    "    if entry['workex'] > 0:\n",
    "        total_workex.append(entry['workex'])\n",
    "\n",
    "print \"Avg work experience:\" + str(sum(total_workex)/len(total_workex))\n",
    "\n",
    "raw_total_workex = []\n",
    "for entry in campus_jobs_only:\n",
    "    if entry['workex'] > 0:\n",
    "        raw_total_workex.append(entry['workex'])\n",
    "        \n",
    "print \"Raw avg work experience:\" + str(sum(raw_total_workex)/len(raw_total_workex))"
   ]
  },
  {
   "cell_type": "code",
   "execution_count": 25,
   "metadata": {},
   "outputs": [
    {
     "name": "stdout",
     "output_type": "stream",
     "text": [
      "People placed with cgpa less than 6: 1\n",
      "People placed with cgpa 6 to 7: 20\n",
      "People placed with cgpa 7 to 8: 38\n",
      "People placed with cgpa 8 to 9: 34\n",
      "People placed with cgpa greater than 9: 8\n"
     ]
    }
   ],
   "source": [
    "# CGPA split\n",
    "\n",
    "cgpa6below = 0\n",
    "cgpa6to7 = 0\n",
    "cgpa7to8 = 0\n",
    "cgpa8to9 = 0\n",
    "cgpa9above = 0\n",
    "\n",
    "for entry in campus_jobs_only:\n",
    "    if entry['cgpa'] == 1:\n",
    "        cgpa6below += 1\n",
    "    elif entry['cgpa'] == 2:\n",
    "        cgpa6to7 += 1\n",
    "    elif entry['cgpa'] == 3:\n",
    "        cgpa7to8 += 1\n",
    "    elif entry['cgpa'] == 4:\n",
    "        cgpa8to9 += 1\n",
    "    elif entry['cgpa'] == 5:\n",
    "        cgpa9above += 1\n",
    "\n",
    "print \"People placed with cgpa less than 6: \" + str(cgpa6below)\n",
    "print \"People placed with cgpa 6 to 7: \" + str(cgpa6to7)\n",
    "print \"People placed with cgpa 7 to 8: \" + str(cgpa7to8)\n",
    "print \"People placed with cgpa 8 to 9: \" + str(cgpa8to9)\n",
    "print \"People placed with cgpa greater than 9: \" + str(cgpa9above)"
   ]
  },
  {
   "cell_type": "code",
   "execution_count": 26,
   "metadata": {},
   "outputs": [
    {
     "name": "stdout",
     "output_type": "stream",
     "text": [
      "People placed with cgpa less than 6 and second degree: 1\n",
      "People placed with cgpa 6 to 7 and second degree: 5\n",
      "People placed with cgpa 7 to 8 and second degree: 14\n",
      "People placed with cgpa 8 to 9 and second degree: 11\n",
      "People placed with cgpa greater than 9 and second degree: 5\n"
     ]
    }
   ],
   "source": [
    "# CGPA and second degree\n",
    "\n",
    "cgpa6below_sec_degree = 0\n",
    "cgpa6to7_sec_degree = 0\n",
    "cgpa7to8_sec_degree = 0\n",
    "cgpa8to9_sec_degree = 0\n",
    "cgpa9above_sec_degree = 0\n",
    "\n",
    "for entry in campus_job_sec_degree:\n",
    "    if entry['cgpa'] == 1:\n",
    "        cgpa6below_sec_degree += 1\n",
    "    elif entry['cgpa'] == 2:\n",
    "        cgpa6to7_sec_degree += 1\n",
    "    elif entry['cgpa'] == 3:\n",
    "        cgpa7to8_sec_degree += 1\n",
    "    elif entry['cgpa'] == 4:\n",
    "        cgpa8to9_sec_degree += 1\n",
    "    elif entry['cgpa'] == 5:\n",
    "        cgpa9above_sec_degree += 1\n",
    "        \n",
    "print \"People placed with cgpa less than 6 and second degree: \" + str(cgpa6below_sec_degree)\n",
    "print \"People placed with cgpa 6 to 7 and second degree: \" + str(cgpa6to7_sec_degree)\n",
    "print \"People placed with cgpa 7 to 8 and second degree: \" + str(cgpa7to8_sec_degree)\n",
    "print \"People placed with cgpa 8 to 9 and second degree: \" + str(cgpa8to9_sec_degree)\n",
    "print \"People placed with cgpa greater than 9 and second degree: \" + str(cgpa9above_sec_degree)"
   ]
  },
  {
   "cell_type": "code",
   "execution_count": 27,
   "metadata": {},
   "outputs": [
    {
     "name": "stdout",
     "output_type": "stream",
     "text": [
      "14\n",
      "People not placed with cgpa less than 6 and second degree: 2\n",
      "People not placed with cgpa 6 to 7 and second degree: 6\n",
      "People not placed with cgpa 7 to 8 and second degree: 3\n",
      "People not placed with cgpa 8 to 9 and second degree: 1\n",
      "People not placed with cgpa greater than 9 and second degree: 2\n",
      "2\n",
      "2\n",
      "5\n"
     ]
    }
   ],
   "source": [
    "#CGPA split of no campus job\n",
    "\n",
    "cgpa6below_nj = 0\n",
    "cgpa6to7_nj = 0\n",
    "cgpa7to8_nj = 0\n",
    "cgpa8to9_nj = 0\n",
    "cgpa9above_nj = 0\n",
    "\n",
    "for entry in no_campus_job:\n",
    "    if entry['cgpa'] == 1:\n",
    "        cgpa6below_nj += 1\n",
    "    elif entry['cgpa'] == 2:\n",
    "        cgpa6to7_nj += 1\n",
    "    elif entry['cgpa'] == 3:\n",
    "        cgpa7to8_nj += 1\n",
    "    elif entry['cgpa'] == 4:\n",
    "        cgpa8to9_nj += 1\n",
    "    elif entry['cgpa'] == 5:\n",
    "        cgpa9above_nj += 1\n",
    "\n",
    "print len(no_campus_job)\n",
    "print \"People not placed with cgpa less than 6 and second degree: \" + str(cgpa6below_nj)\n",
    "print \"People not placed with cgpa 6 to 7 and second degree: \" + str(cgpa6to7_nj)\n",
    "print \"People not placed with cgpa 7 to 8 and second degree: \" + str(cgpa7to8_nj)\n",
    "print \"People not placed with cgpa 8 to 9 and second degree: \" + str(cgpa8to9_nj)\n",
    "print \"People not placed with cgpa greater than 9 and second degree: \" + str(cgpa9above_nj)\n",
    "\n",
    "for entry in no_campus_job:\n",
    "    if entry['second_degree'] ==1:\n",
    "        print entry['cgpa']"
   ]
  },
  {
   "cell_type": "code",
   "execution_count": 36,
   "metadata": {},
   "outputs": [
    {
     "name": "stdout",
     "output_type": "stream",
     "text": [
      "Pct of survey respondants with low job satisfaction: 15.652173913\n",
      "18\n",
      "Pct of survey respondants with mid job satisfaction: 34.7826086957\n",
      "40\n",
      "Pct of survey respondants with high job satisfaction: 49.5652173913\n",
      "57\n"
     ]
    }
   ],
   "source": [
    "#job satisfaction\n",
    "\n",
    "count_neg = 0\n",
    "count_neut = 0\n",
    "count_pos = 0\n",
    "\n",
    "low_sat = []\n",
    "mid_sat = []\n",
    "high_sat = []\n",
    "\n",
    "for entry in raw_data:\n",
    "    if 1 <= entry['job_sat'] <= 5:\n",
    "        count_neg += 1\n",
    "        low_sat.append(entry)\n",
    "    elif 6 <= entry['job_sat'] <= 7:\n",
    "        count_neut += 1\n",
    "        mid_sat.append(entry)\n",
    "    elif 8 <= entry['job_sat'] <= 10:\n",
    "        count_pos += 1\n",
    "        high_sat.append(entry)\n",
    "\n",
    "print \"Pct of survey respondants with low job satisfaction: \" + str(count_neg*100.0/len(raw_data))\n",
    "print count_neg\n",
    "print \"Pct of survey respondants with mid job satisfaction: \" + str(count_neut*100.0/len(raw_data))\n",
    "print count_neut\n",
    "print \"Pct of survey respondants with high job satisfaction: \" + str(count_pos*100.0/len(raw_data))\n",
    "print count_pos"
   ]
  },
  {
   "cell_type": "code",
   "execution_count": 29,
   "metadata": {},
   "outputs": [
    {
     "data": {
      "text/plain": [
       "{u'Timestamp': u'2017/07/08 11:12:38 PM GMT+1',\n",
       " u'age': 27,\n",
       " u'branch_assoc': 0,\n",
       " u'campus_job': 1,\n",
       " u'cgpa': 3,\n",
       " u'council_or_fest': 1,\n",
       " u'course': 'chem',\n",
       " u'gender': 2,\n",
       " u'graduation': u'2012',\n",
       " u'job_sat': 10,\n",
       " u'risk_appetite': 2,\n",
       " u'second_degree': 0,\n",
       " u'second_degree_field': None,\n",
       " u'student_club': 1,\n",
       " u'student_club_post': 0,\n",
       " u'time_acad': 3,\n",
       " u'time_eca': 2,\n",
       " u'time_experiment': 3,\n",
       " u'time_social': 1,\n",
       " u'work_field': u'Sales & Marketing',\n",
       " u'workex': 5.0}"
      ]
     },
     "execution_count": 29,
     "metadata": {},
     "output_type": "execute_result"
    }
   ],
   "source": [
    "raw_data[34]"
   ]
  },
  {
   "cell_type": "code",
   "execution_count": 30,
   "metadata": {},
   "outputs": [
    {
     "name": "stdout",
     "output_type": "stream",
     "text": [
      "18\n",
      "40\n",
      "57\n"
     ]
    }
   ],
   "source": [
    "print len(low_sat)\n",
    "print len(mid_sat)\n",
    "print len(high_sat)"
   ]
  },
  {
   "cell_type": "code",
   "execution_count": 31,
   "metadata": {
    "collapsed": true
   },
   "outputs": [],
   "source": [
    "def perceived_life_brk(data, value):\n",
    "    list_of_values = []\n",
    "    for data_point in data:\n",
    "        list_of_values.append(data_point[value])\n",
    "    return Counter(list_of_values)"
   ]
  },
  {
   "cell_type": "markdown",
   "metadata": {},
   "source": [
    "# Below is Full data vs perceived life connection"
   ]
  },
  {
   "cell_type": "code",
   "execution_count": 32,
   "metadata": {},
   "outputs": [
    {
     "name": "stdout",
     "output_type": "stream",
     "text": [
      "low_sat, time_acad: Counter({3: 8, 2: 7, 1: 3})\n",
      "low_sat, time_eca: Counter({3: 9, 1: 5, 2: 4})\n",
      "low_sat, time_experiment: Counter({3: 10, 1: 5, 2: 3})\n",
      "low_sat, time_social: Counter({3: 8, 1: 5, 2: 5})\n",
      "low_sat, risk_appetite: Counter({2: 8, 3: 6, 1: 4})\n",
      "mid_sat, time_acad: Counter({3: 20, 2: 17, 1: 3})\n",
      "mid_sat, time_eca: Counter({3: 20, 2: 15, 1: 5})\n",
      "mid_sat, time_experiment: Counter({3: 28, 2: 11, 1: 1})\n",
      "mid_sat, time_social: Counter({2: 25, 3: 11, 1: 4})\n",
      "mid_sat, risk_appetite: Counter({3: 24, 2: 12, 1: 4})\n",
      "high_sat, time_acad: Counter({3: 30, 2: 23, 1: 4})\n",
      "high_sat, time_eca: Counter({3: 35, 2: 19, 1: 3})\n",
      "high_sat, time_experiment: Counter({3: 38, 2: 14, 1: 5})\n",
      "high_sat, time_social: Counter({2: 30, 3: 20, 1: 7})\n",
      "high_sat, risk_appetite: Counter({2: 32, 3: 21, 1: 4})\n"
     ]
    }
   ],
   "source": [
    "list_of_params = ['time_acad', 'time_eca', 'time_experiment', 'time_social', 'risk_appetite']\n",
    "list_of_sat = [low_sat, mid_sat, high_sat]\n",
    "list_of_sat_names = ['low_sat', 'mid_sat', 'high_sat']\n",
    "\n",
    "for i in range(0,3):\n",
    "    for j in range(0,5):\n",
    "        print \"%s, %s: \"%(list_of_sat_names[i], list_of_params[j]) + str(perceived_life_brk(list_of_sat[i],list_of_params[j]))"
   ]
  },
  {
   "cell_type": "code",
   "execution_count": 33,
   "metadata": {},
   "outputs": [
    {
     "name": "stdout",
     "output_type": "stream",
     "text": [
      "Campus jobs only, time_acad: Counter({3: 53, 2: 41, 1: 7})\n",
      "Campus jobs only, time_eca: Counter({3: 57, 2: 35, 1: 9})\n",
      "Campus jobs only, time_experiment: Counter({3: 69, 2: 23, 1: 9})\n",
      "Campus jobs only, time_social: Counter({2: 52, 3: 33, 1: 16})\n",
      "Campus jobs only, risk_appetite: Counter({3: 47, 2: 46, 1: 8})\n"
     ]
    }
   ],
   "source": [
    "for j in range(0,5):\n",
    "    print \"Campus jobs only, %s: \"%list_of_params[j] + str(perceived_life_brk(campus_jobs_only,list_of_params[j]))"
   ]
  },
  {
   "cell_type": "code",
   "execution_count": 34,
   "metadata": {
    "collapsed": true
   },
   "outputs": [],
   "source": [
    "cgpa6below_list = []\n",
    "cgpa6to7_list = []\n",
    "cgpa7to8_list = []\n",
    "cgpa8to9_list = []\n",
    "cgpa9above_list = []\n",
    "\n",
    "for entry in campus_jobs_only:\n",
    "    if entry['cgpa'] == 1:\n",
    "        cgpa6below_list.append(entry)\n",
    "    elif entry['cgpa'] == 2:\n",
    "        cgpa6to7_list.append(entry)\n",
    "    elif entry['cgpa'] == 3:\n",
    "        cgpa7to8_list.append(entry)\n",
    "    elif entry['cgpa'] == 4:\n",
    "        cgpa8to9_list.append(entry)\n",
    "    elif entry['cgpa'] == 5:\n",
    "        cgpa9above_list.append(entry)"
   ]
  },
  {
   "cell_type": "code",
   "execution_count": 35,
   "metadata": {},
   "outputs": [
    {
     "name": "stdout",
     "output_type": "stream",
     "text": [
      "cgpa6below_list, time_acad: Counter({3: 1})\n",
      "cgpa6below_list, time_eca: Counter({3: 1})\n",
      "cgpa6below_list, time_experiment: Counter({3: 1})\n",
      "cgpa6below_list, time_social: Counter({1: 1})\n",
      "cgpa6below_list, risk_appetite: Counter({2: 1})\n",
      "cgpa6to7_list, time_acad: Counter({3: 13, 2: 5, 1: 2})\n",
      "cgpa6to7_list, time_eca: Counter({3: 10, 2: 8, 1: 2})\n",
      "cgpa6to7_list, time_experiment: Counter({3: 11, 2: 6, 1: 3})\n",
      "cgpa6to7_list, time_social: Counter({2: 10, 3: 6, 1: 4})\n",
      "cgpa6to7_list, risk_appetite: Counter({2: 10, 1: 5, 3: 5})\n",
      "cgpa7to8_list, time_acad: Counter({3: 19, 2: 17, 1: 2})\n",
      "cgpa7to8_list, time_eca: Counter({3: 21, 2: 13, 1: 4})\n",
      "cgpa7to8_list, time_experiment: Counter({3: 27, 2: 9, 1: 2})\n",
      "cgpa7to8_list, time_social: Counter({2: 18, 3: 13, 1: 7})\n",
      "cgpa7to8_list, risk_appetite: Counter({3: 20, 2: 17, 1: 1})\n",
      "cgpa8to9_list, time_acad: Counter({3: 19, 2: 12, 1: 3})\n",
      "cgpa8to9_list, time_eca: Counter({3: 19, 2: 12, 1: 3})\n",
      "cgpa8to9_list, time_experiment: Counter({3: 23, 2: 7, 1: 4})\n",
      "cgpa8to9_list, time_social: Counter({2: 19, 3: 12, 1: 3})\n",
      "cgpa8to9_list, risk_appetite: Counter({3: 19, 2: 13, 1: 2})\n",
      "cgpa9above_list, time_acad: Counter({2: 7, 3: 1})\n",
      "cgpa9above_list, time_eca: Counter({3: 6, 2: 2})\n",
      "cgpa9above_list, time_experiment: Counter({3: 7, 2: 1})\n",
      "cgpa9above_list, time_social: Counter({2: 5, 3: 2, 1: 1})\n",
      "cgpa9above_list, risk_appetite: Counter({2: 5, 3: 3})\n"
     ]
    }
   ],
   "source": [
    "list_of_cgpa_lists = [cgpa6below_list, cgpa6to7_list, cgpa7to8_list, cgpa8to9_list, cgpa9above_list]\n",
    "list_of_cgpa_lists_names = ['cgpa6below_list', 'cgpa6to7_list', 'cgpa7to8_list', 'cgpa8to9_list', 'cgpa9above_list']\n",
    "\n",
    "for i in range(0,5):\n",
    "    for j in range(0,5):\n",
    "        print \"%s, %s: \"%(list_of_cgpa_lists_names[i], list_of_params[j]) + str(perceived_life_brk(list_of_cgpa_lists[i],list_of_params[j]))"
   ]
  },
  {
   "cell_type": "code",
   "execution_count": null,
   "metadata": {
    "collapsed": true
   },
   "outputs": [],
   "source": []
  }
 ],
 "metadata": {
  "kernelspec": {
   "display_name": "Python 2",
   "language": "python",
   "name": "python2"
  },
  "language_info": {
   "codemirror_mode": {
    "name": "ipython",
    "version": 2
   },
   "file_extension": ".py",
   "mimetype": "text/x-python",
   "name": "python",
   "nbconvert_exporter": "python",
   "pygments_lexer": "ipython2",
   "version": "2.7.13"
  }
 },
 "nbformat": 4,
 "nbformat_minor": 1
}
